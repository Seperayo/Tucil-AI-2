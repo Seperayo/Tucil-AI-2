{
 "cells": [
  {
   "cell_type": "markdown",
   "metadata": {},
   "source": [
    "<h1><center>Tugas Besar 2 IF3170 Inteligensi Buatan</center></h1>\n",
    "<h1><center>Eksplorasi scikit-learn pada Jupyter Notebook</center></h1>\n",
    "**Anggota Kelompok**\n",
    "1. Seperayo - 13516068\n",
    "2. Aristoteles Swarna Wirahadi - 13516146"
   ]
  },
  {
   "cell_type": "code",
   "execution_count": 1,
   "metadata": {},
   "outputs": [],
   "source": [
    "import graphviz \n",
    "import itertools\n",
    "import matplotlib.pyplot as plt\n",
    "import numpy as np\n",
    "import pandas as pd\n",
    "from IPython.display import display\n",
    "from matplotlib.colors import ListedColormap\n",
    "from sklearn import neighbors\n",
    "from sklearn import datasets, tree, svm\n",
    "from sklearn.externals import joblib\n",
    "from sklearn.metrics import confusion_matrix\n",
    "from sklearn.metrics import accuracy_score\n",
    "from sklearn.metrics import precision_score\n",
    "from sklearn.metrics import recall_score\n",
    "from sklearn.model_selection import cross_val_score\n",
    "from sklearn.model_selection import train_test_split\n",
    "from sklearn.naive_bayes import GaussianNB\n",
    "from sklearn.neighbors import KNeighborsClassifier\n",
    "from sklearn.neural_network import MLPClassifier"
   ]
  },
  {
   "cell_type": "markdown",
   "metadata": {},
   "source": [
    "# A. Membaca Data Iris & CSV"
   ]
  },
  {
   "cell_type": "code",
   "execution_count": 2,
   "metadata": {},
   "outputs": [
    {
     "name": "stdout",
     "output_type": "stream",
     "text": [
      "[[5.1 3.5 1.4 0.2]\n",
      " [4.9 3.  1.4 0.2]\n",
      " [4.7 3.2 1.3 0.2]\n",
      " [4.6 3.1 1.5 0.2]\n",
      " [5.  3.6 1.4 0.2]\n",
      " [5.4 3.9 1.7 0.4]\n",
      " [4.6 3.4 1.4 0.3]\n",
      " [5.  3.4 1.5 0.2]\n",
      " [4.4 2.9 1.4 0.2]\n",
      " [4.9 3.1 1.5 0.1]\n",
      " [5.4 3.7 1.5 0.2]\n",
      " [4.8 3.4 1.6 0.2]\n",
      " [4.8 3.  1.4 0.1]\n",
      " [4.3 3.  1.1 0.1]\n",
      " [5.8 4.  1.2 0.2]\n",
      " [5.7 4.4 1.5 0.4]\n",
      " [5.4 3.9 1.3 0.4]\n",
      " [5.1 3.5 1.4 0.3]\n",
      " [5.7 3.8 1.7 0.3]\n",
      " [5.1 3.8 1.5 0.3]\n",
      " [5.4 3.4 1.7 0.2]\n",
      " [5.1 3.7 1.5 0.4]\n",
      " [4.6 3.6 1.  0.2]\n",
      " [5.1 3.3 1.7 0.5]\n",
      " [4.8 3.4 1.9 0.2]\n",
      " [5.  3.  1.6 0.2]\n",
      " [5.  3.4 1.6 0.4]\n",
      " [5.2 3.5 1.5 0.2]\n",
      " [5.2 3.4 1.4 0.2]\n",
      " [4.7 3.2 1.6 0.2]\n",
      " [4.8 3.1 1.6 0.2]\n",
      " [5.4 3.4 1.5 0.4]\n",
      " [5.2 4.1 1.5 0.1]\n",
      " [5.5 4.2 1.4 0.2]\n",
      " [4.9 3.1 1.5 0.2]\n",
      " [5.  3.2 1.2 0.2]\n",
      " [5.5 3.5 1.3 0.2]\n",
      " [4.9 3.6 1.4 0.1]\n",
      " [4.4 3.  1.3 0.2]\n",
      " [5.1 3.4 1.5 0.2]\n",
      " [5.  3.5 1.3 0.3]\n",
      " [4.5 2.3 1.3 0.3]\n",
      " [4.4 3.2 1.3 0.2]\n",
      " [5.  3.5 1.6 0.6]\n",
      " [5.1 3.8 1.9 0.4]\n",
      " [4.8 3.  1.4 0.3]\n",
      " [5.1 3.8 1.6 0.2]\n",
      " [4.6 3.2 1.4 0.2]\n",
      " [5.3 3.7 1.5 0.2]\n",
      " [5.  3.3 1.4 0.2]\n",
      " [7.  3.2 4.7 1.4]\n",
      " [6.4 3.2 4.5 1.5]\n",
      " [6.9 3.1 4.9 1.5]\n",
      " [5.5 2.3 4.  1.3]\n",
      " [6.5 2.8 4.6 1.5]\n",
      " [5.7 2.8 4.5 1.3]\n",
      " [6.3 3.3 4.7 1.6]\n",
      " [4.9 2.4 3.3 1. ]\n",
      " [6.6 2.9 4.6 1.3]\n",
      " [5.2 2.7 3.9 1.4]\n",
      " [5.  2.  3.5 1. ]\n",
      " [5.9 3.  4.2 1.5]\n",
      " [6.  2.2 4.  1. ]\n",
      " [6.1 2.9 4.7 1.4]\n",
      " [5.6 2.9 3.6 1.3]\n",
      " [6.7 3.1 4.4 1.4]\n",
      " [5.6 3.  4.5 1.5]\n",
      " [5.8 2.7 4.1 1. ]\n",
      " [6.2 2.2 4.5 1.5]\n",
      " [5.6 2.5 3.9 1.1]\n",
      " [5.9 3.2 4.8 1.8]\n",
      " [6.1 2.8 4.  1.3]\n",
      " [6.3 2.5 4.9 1.5]\n",
      " [6.1 2.8 4.7 1.2]\n",
      " [6.4 2.9 4.3 1.3]\n",
      " [6.6 3.  4.4 1.4]\n",
      " [6.8 2.8 4.8 1.4]\n",
      " [6.7 3.  5.  1.7]\n",
      " [6.  2.9 4.5 1.5]\n",
      " [5.7 2.6 3.5 1. ]\n",
      " [5.5 2.4 3.8 1.1]\n",
      " [5.5 2.4 3.7 1. ]\n",
      " [5.8 2.7 3.9 1.2]\n",
      " [6.  2.7 5.1 1.6]\n",
      " [5.4 3.  4.5 1.5]\n",
      " [6.  3.4 4.5 1.6]\n",
      " [6.7 3.1 4.7 1.5]\n",
      " [6.3 2.3 4.4 1.3]\n",
      " [5.6 3.  4.1 1.3]\n",
      " [5.5 2.5 4.  1.3]\n",
      " [5.5 2.6 4.4 1.2]\n",
      " [6.1 3.  4.6 1.4]\n",
      " [5.8 2.6 4.  1.2]\n",
      " [5.  2.3 3.3 1. ]\n",
      " [5.6 2.7 4.2 1.3]\n",
      " [5.7 3.  4.2 1.2]\n",
      " [5.7 2.9 4.2 1.3]\n",
      " [6.2 2.9 4.3 1.3]\n",
      " [5.1 2.5 3.  1.1]\n",
      " [5.7 2.8 4.1 1.3]\n",
      " [6.3 3.3 6.  2.5]\n",
      " [5.8 2.7 5.1 1.9]\n",
      " [7.1 3.  5.9 2.1]\n",
      " [6.3 2.9 5.6 1.8]\n",
      " [6.5 3.  5.8 2.2]\n",
      " [7.6 3.  6.6 2.1]\n",
      " [4.9 2.5 4.5 1.7]\n",
      " [7.3 2.9 6.3 1.8]\n",
      " [6.7 2.5 5.8 1.8]\n",
      " [7.2 3.6 6.1 2.5]\n",
      " [6.5 3.2 5.1 2. ]\n",
      " [6.4 2.7 5.3 1.9]\n",
      " [6.8 3.  5.5 2.1]\n",
      " [5.7 2.5 5.  2. ]\n",
      " [5.8 2.8 5.1 2.4]\n",
      " [6.4 3.2 5.3 2.3]\n",
      " [6.5 3.  5.5 1.8]\n",
      " [7.7 3.8 6.7 2.2]\n",
      " [7.7 2.6 6.9 2.3]\n",
      " [6.  2.2 5.  1.5]\n",
      " [6.9 3.2 5.7 2.3]\n",
      " [5.6 2.8 4.9 2. ]\n",
      " [7.7 2.8 6.7 2. ]\n",
      " [6.3 2.7 4.9 1.8]\n",
      " [6.7 3.3 5.7 2.1]\n",
      " [7.2 3.2 6.  1.8]\n",
      " [6.2 2.8 4.8 1.8]\n",
      " [6.1 3.  4.9 1.8]\n",
      " [6.4 2.8 5.6 2.1]\n",
      " [7.2 3.  5.8 1.6]\n",
      " [7.4 2.8 6.1 1.9]\n",
      " [7.9 3.8 6.4 2. ]\n",
      " [6.4 2.8 5.6 2.2]\n",
      " [6.3 2.8 5.1 1.5]\n",
      " [6.1 2.6 5.6 1.4]\n",
      " [7.7 3.  6.1 2.3]\n",
      " [6.3 3.4 5.6 2.4]\n",
      " [6.4 3.1 5.5 1.8]\n",
      " [6.  3.  4.8 1.8]\n",
      " [6.9 3.1 5.4 2.1]\n",
      " [6.7 3.1 5.6 2.4]\n",
      " [6.9 3.1 5.1 2.3]\n",
      " [5.8 2.7 5.1 1.9]\n",
      " [6.8 3.2 5.9 2.3]\n",
      " [6.7 3.3 5.7 2.5]\n",
      " [6.7 3.  5.2 2.3]\n",
      " [6.3 2.5 5.  1.9]\n",
      " [6.5 3.  5.2 2. ]\n",
      " [6.2 3.4 5.4 2.3]\n",
      " [5.9 3.  5.1 1.8]]\n"
     ]
    }
   ],
   "source": [
    "iris = datasets.load_iris()\n",
    "\n",
    "print(iris.data)"
   ]
  },
  {
   "cell_type": "code",
   "execution_count": 3,
   "metadata": {},
   "outputs": [
    {
     "name": "stdout",
     "output_type": "stream",
     "text": [
      "     outlook temperature humidity  windy play\n",
      "0      sunny         hot     high  False   no\n",
      "1      sunny         hot     high   True   no\n",
      "2   overcast         hot     high  False  yes\n",
      "3      rainy        mild     high  False  yes\n",
      "4      rainy        cool   normal  False  yes\n",
      "5      rainy        cool   normal   True   no\n",
      "6   overcast        cool   normal   True  yes\n",
      "7      sunny        mild     high  False   no\n",
      "8      sunny        cool   normal  False  yes\n",
      "9      rainy        mild   normal  False  yes\n",
      "10     sunny        mild   normal   True  yes\n",
      "11  overcast        mild     high   True  yes\n",
      "12  overcast         hot   normal  False  yes\n",
      "13     rainy        mild     high   True   no\n"
     ]
    }
   ],
   "source": [
    "play_tennis = pd.read_csv('weather.nominal.csv')\n",
    "print(play_tennis)"
   ]
  },
  {
   "cell_type": "markdown",
   "metadata": {},
   "source": [
    "# B. Skema Full Training & Model"
   ]
  },
  {
   "cell_type": "markdown",
   "metadata": {},
   "source": [
    "## Naive Bayes"
   ]
  },
  {
   "cell_type": "code",
   "execution_count": 4,
   "metadata": {},
   "outputs": [
    {
     "name": "stdout",
     "output_type": "stream",
     "text": [
      "Model:\n",
      "1. Probabilitas setiap kelas:\n",
      "[0.33333333 0.33333333 0.33333333]\n",
      "\n",
      "2. Rata-rata setiap fitur per kelas:\n",
      "[[5.006 3.428 1.462 0.246]\n",
      " [5.936 2.77  4.26  1.326]\n",
      " [6.588 2.974 5.552 2.026]]\n",
      "\n",
      "3. Variansi setiap fitur per kelas:\n",
      "[[0.121764 0.140816 0.029556 0.010884]\n",
      " [0.261104 0.0965   0.2164   0.038324]\n",
      " [0.396256 0.101924 0.298496 0.073924]]\n"
     ]
    }
   ],
   "source": [
    "gnb = GaussianNB()\n",
    "gnb.fit(iris.data,iris.target)\n",
    "\n",
    "print(\"Model:\")\n",
    "print(\"1. Probabilitas setiap kelas:\")\n",
    "print(gnb.class_prior_)\n",
    "print()\n",
    "print(\"2. Rata-rata setiap fitur per kelas:\")\n",
    "print(gnb.theta_)\n",
    "print()\n",
    "print(\"3. Variansi setiap fitur per kelas:\")\n",
    "print(gnb.sigma_)"
   ]
  },
  {
   "cell_type": "markdown",
   "metadata": {},
   "source": [
    "## Decision Tree"
   ]
  },
  {
   "cell_type": "code",
   "execution_count": 5,
   "metadata": {
    "scrolled": true
   },
   "outputs": [
    {
     "data": {
      "image/svg+xml": [
       "<?xml version=\"1.0\" encoding=\"UTF-8\" standalone=\"no\"?>\r\n",
       "<!DOCTYPE svg PUBLIC \"-//W3C//DTD SVG 1.1//EN\"\r\n",
       " \"http://www.w3.org/Graphics/SVG/1.1/DTD/svg11.dtd\">\r\n",
       "<!-- Generated by graphviz version 2.38.0 (20140413.2041)\r\n",
       " -->\r\n",
       "<!-- Title: Tree Pages: 1 -->\r\n",
       "<svg width=\"892pt\" height=\"671pt\"\r\n",
       " viewBox=\"0.00 0.00 892.00 671.00\" xmlns=\"http://www.w3.org/2000/svg\" xmlns:xlink=\"http://www.w3.org/1999/xlink\">\r\n",
       "<g id=\"graph0\" class=\"graph\" transform=\"scale(1 1) rotate(0) translate(4 667)\">\r\n",
       "<title>Tree</title>\r\n",
       "<polygon fill=\"white\" stroke=\"none\" points=\"-4,4 -4,-667 888,-667 888,4 -4,4\"/>\r\n",
       "<!-- 0 -->\r\n",
       "<g id=\"node1\" class=\"node\"><title>0</title>\r\n",
       "<path fill=\"none\" stroke=\"black\" d=\"M529,-663C529,-663 402,-663 402,-663 396,-663 390,-657 390,-651 390,-651 390,-592 390,-592 390,-586 396,-580 402,-580 402,-580 529,-580 529,-580 535,-580 541,-586 541,-592 541,-592 541,-651 541,-651 541,-657 535,-663 529,-663\"/>\r\n",
       "<text text-anchor=\"start\" x=\"398\" y=\"-647.8\" font-family=\"Helvetica,sans-Serif\" font-size=\"14.00\">petal width (cm) ≤ 0.8</text>\r\n",
       "<text text-anchor=\"start\" x=\"415.5\" y=\"-632.8\" font-family=\"Helvetica,sans-Serif\" font-size=\"14.00\">entropy = 1.585</text>\r\n",
       "<text text-anchor=\"start\" x=\"418\" y=\"-617.8\" font-family=\"Helvetica,sans-Serif\" font-size=\"14.00\">samples = 150</text>\r\n",
       "<text text-anchor=\"start\" x=\"405\" y=\"-602.8\" font-family=\"Helvetica,sans-Serif\" font-size=\"14.00\">value = [50, 50, 50]</text>\r\n",
       "<text text-anchor=\"start\" x=\"419.5\" y=\"-587.8\" font-family=\"Helvetica,sans-Serif\" font-size=\"14.00\">class = setosa</text>\r\n",
       "</g>\r\n",
       "<!-- 1 -->\r\n",
       "<g id=\"node2\" class=\"node\"><title>1</title>\r\n",
       "<path fill=\"#e58139\" stroke=\"black\" d=\"M435,-536.5C435,-536.5 338,-536.5 338,-536.5 332,-536.5 326,-530.5 326,-524.5 326,-524.5 326,-480.5 326,-480.5 326,-474.5 332,-468.5 338,-468.5 338,-468.5 435,-468.5 435,-468.5 441,-468.5 447,-474.5 447,-480.5 447,-480.5 447,-524.5 447,-524.5 447,-530.5 441,-536.5 435,-536.5\"/>\r\n",
       "<text text-anchor=\"start\" x=\"344.5\" y=\"-521.3\" font-family=\"Helvetica,sans-Serif\" font-size=\"14.00\">entropy = 0.0</text>\r\n",
       "<text text-anchor=\"start\" x=\"343\" y=\"-506.3\" font-family=\"Helvetica,sans-Serif\" font-size=\"14.00\">samples = 50</text>\r\n",
       "<text text-anchor=\"start\" x=\"334\" y=\"-491.3\" font-family=\"Helvetica,sans-Serif\" font-size=\"14.00\">value = [50, 0, 0]</text>\r\n",
       "<text text-anchor=\"start\" x=\"340.5\" y=\"-476.3\" font-family=\"Helvetica,sans-Serif\" font-size=\"14.00\">class = setosa</text>\r\n",
       "</g>\r\n",
       "<!-- 0&#45;&gt;1 -->\r\n",
       "<g id=\"edge1\" class=\"edge\"><title>0&#45;&gt;1</title>\r\n",
       "<path fill=\"none\" stroke=\"black\" d=\"M438.091,-579.907C430.492,-568.652 422.231,-556.418 414.593,-545.106\"/>\r\n",
       "<polygon fill=\"black\" stroke=\"black\" points=\"417.391,-542.996 408.895,-536.667 411.59,-546.913 417.391,-542.996\"/>\r\n",
       "<text text-anchor=\"middle\" x=\"404.136\" y=\"-557.51\" font-family=\"Helvetica,sans-Serif\" font-size=\"14.00\">True</text>\r\n",
       "</g>\r\n",
       "<!-- 2 -->\r\n",
       "<g id=\"node3\" class=\"node\"><title>2</title>\r\n",
       "<path fill=\"none\" stroke=\"black\" d=\"M612,-544C612,-544 477,-544 477,-544 471,-544 465,-538 465,-532 465,-532 465,-473 465,-473 465,-467 471,-461 477,-461 477,-461 612,-461 612,-461 618,-461 624,-467 624,-473 624,-473 624,-532 624,-532 624,-538 618,-544 612,-544\"/>\r\n",
       "<text text-anchor=\"start\" x=\"473\" y=\"-528.8\" font-family=\"Helvetica,sans-Serif\" font-size=\"14.00\">petal width (cm) ≤ 1.75</text>\r\n",
       "<text text-anchor=\"start\" x=\"502.5\" y=\"-513.8\" font-family=\"Helvetica,sans-Serif\" font-size=\"14.00\">entropy = 1.0</text>\r\n",
       "<text text-anchor=\"start\" x=\"497\" y=\"-498.8\" font-family=\"Helvetica,sans-Serif\" font-size=\"14.00\">samples = 100</text>\r\n",
       "<text text-anchor=\"start\" x=\"488\" y=\"-483.8\" font-family=\"Helvetica,sans-Serif\" font-size=\"14.00\">value = [0, 50, 50]</text>\r\n",
       "<text text-anchor=\"start\" x=\"489\" y=\"-468.8\" font-family=\"Helvetica,sans-Serif\" font-size=\"14.00\">class = versicolor</text>\r\n",
       "</g>\r\n",
       "<!-- 0&#45;&gt;2 -->\r\n",
       "<g id=\"edge2\" class=\"edge\"><title>0&#45;&gt;2</title>\r\n",
       "<path fill=\"none\" stroke=\"black\" d=\"M492.909,-579.907C498.914,-571.014 505.331,-561.509 511.529,-552.331\"/>\r\n",
       "<polygon fill=\"black\" stroke=\"black\" points=\"514.444,-554.267 517.14,-544.021 508.643,-550.35 514.444,-554.267\"/>\r\n",
       "<text text-anchor=\"middle\" x=\"521.898\" y=\"-564.864\" font-family=\"Helvetica,sans-Serif\" font-size=\"14.00\">False</text>\r\n",
       "</g>\r\n",
       "<!-- 3 -->\r\n",
       "<g id=\"node4\" class=\"node\"><title>3</title>\r\n",
       "<path fill=\"#39e581\" fill-opacity=\"0.898039\" stroke=\"black\" d=\"M500,-425C500,-425 359,-425 359,-425 353,-425 347,-419 347,-413 347,-413 347,-354 347,-354 347,-348 353,-342 359,-342 359,-342 500,-342 500,-342 506,-342 512,-348 512,-354 512,-354 512,-413 512,-413 512,-419 506,-425 500,-425\"/>\r\n",
       "<text text-anchor=\"start\" x=\"355\" y=\"-409.8\" font-family=\"Helvetica,sans-Serif\" font-size=\"14.00\">petal length (cm) ≤ 4.95</text>\r\n",
       "<text text-anchor=\"start\" x=\"379.5\" y=\"-394.8\" font-family=\"Helvetica,sans-Serif\" font-size=\"14.00\">entropy = 0.445</text>\r\n",
       "<text text-anchor=\"start\" x=\"386\" y=\"-379.8\" font-family=\"Helvetica,sans-Serif\" font-size=\"14.00\">samples = 54</text>\r\n",
       "<text text-anchor=\"start\" x=\"377\" y=\"-364.8\" font-family=\"Helvetica,sans-Serif\" font-size=\"14.00\">value = [0, 49, 5]</text>\r\n",
       "<text text-anchor=\"start\" x=\"374\" y=\"-349.8\" font-family=\"Helvetica,sans-Serif\" font-size=\"14.00\">class = versicolor</text>\r\n",
       "</g>\r\n",
       "<!-- 2&#45;&gt;3 -->\r\n",
       "<g id=\"edge3\" class=\"edge\"><title>2&#45;&gt;3</title>\r\n",
       "<path fill=\"none\" stroke=\"black\" d=\"M504.601,-460.907C495.503,-451.651 485.754,-441.732 476.393,-432.209\"/>\r\n",
       "<polygon fill=\"black\" stroke=\"black\" points=\"478.834,-429.699 469.328,-425.021 473.842,-434.606 478.834,-429.699\"/>\r\n",
       "</g>\r\n",
       "<!-- 12 -->\r\n",
       "<g id=\"node13\" class=\"node\"><title>12</title>\r\n",
       "<path fill=\"#8139e5\" fill-opacity=\"0.976471\" stroke=\"black\" d=\"M731,-425C731,-425 590,-425 590,-425 584,-425 578,-419 578,-413 578,-413 578,-354 578,-354 578,-348 584,-342 590,-342 590,-342 731,-342 731,-342 737,-342 743,-348 743,-354 743,-354 743,-413 743,-413 743,-419 737,-425 731,-425\"/>\r\n",
       "<text text-anchor=\"start\" x=\"586\" y=\"-409.8\" font-family=\"Helvetica,sans-Serif\" font-size=\"14.00\">petal length (cm) ≤ 4.85</text>\r\n",
       "<text text-anchor=\"start\" x=\"610.5\" y=\"-394.8\" font-family=\"Helvetica,sans-Serif\" font-size=\"14.00\">entropy = 0.151</text>\r\n",
       "<text text-anchor=\"start\" x=\"617\" y=\"-379.8\" font-family=\"Helvetica,sans-Serif\" font-size=\"14.00\">samples = 46</text>\r\n",
       "<text text-anchor=\"start\" x=\"608\" y=\"-364.8\" font-family=\"Helvetica,sans-Serif\" font-size=\"14.00\">value = [0, 1, 45]</text>\r\n",
       "<text text-anchor=\"start\" x=\"610.5\" y=\"-349.8\" font-family=\"Helvetica,sans-Serif\" font-size=\"14.00\">class = virginica</text>\r\n",
       "</g>\r\n",
       "<!-- 2&#45;&gt;12 -->\r\n",
       "<g id=\"edge12\" class=\"edge\"><title>2&#45;&gt;12</title>\r\n",
       "<path fill=\"none\" stroke=\"black\" d=\"M584.746,-460.907C593.923,-451.651 603.757,-441.732 613.199,-432.209\"/>\r\n",
       "<polygon fill=\"black\" stroke=\"black\" points=\"615.77,-434.586 620.326,-425.021 610.799,-429.658 615.77,-434.586\"/>\r\n",
       "</g>\r\n",
       "<!-- 4 -->\r\n",
       "<g id=\"node5\" class=\"node\"><title>4</title>\r\n",
       "<path fill=\"#39e581\" fill-opacity=\"0.980392\" stroke=\"black\" d=\"M271,-306C271,-306 136,-306 136,-306 130,-306 124,-300 124,-294 124,-294 124,-235 124,-235 124,-229 130,-223 136,-223 136,-223 271,-223 271,-223 277,-223 283,-229 283,-235 283,-235 283,-294 283,-294 283,-300 277,-306 271,-306\"/>\r\n",
       "<text text-anchor=\"start\" x=\"132\" y=\"-290.8\" font-family=\"Helvetica,sans-Serif\" font-size=\"14.00\">petal width (cm) ≤ 1.65</text>\r\n",
       "<text text-anchor=\"start\" x=\"153.5\" y=\"-275.8\" font-family=\"Helvetica,sans-Serif\" font-size=\"14.00\">entropy = 0.146</text>\r\n",
       "<text text-anchor=\"start\" x=\"160\" y=\"-260.8\" font-family=\"Helvetica,sans-Serif\" font-size=\"14.00\">samples = 48</text>\r\n",
       "<text text-anchor=\"start\" x=\"151\" y=\"-245.8\" font-family=\"Helvetica,sans-Serif\" font-size=\"14.00\">value = [0, 47, 1]</text>\r\n",
       "<text text-anchor=\"start\" x=\"148\" y=\"-230.8\" font-family=\"Helvetica,sans-Serif\" font-size=\"14.00\">class = versicolor</text>\r\n",
       "</g>\r\n",
       "<!-- 3&#45;&gt;4 -->\r\n",
       "<g id=\"edge4\" class=\"edge\"><title>3&#45;&gt;4</title>\r\n",
       "<path fill=\"none\" stroke=\"black\" d=\"M351.09,-341.907C331.632,-331.834 310.66,-320.977 290.805,-310.698\"/>\r\n",
       "<polygon fill=\"black\" stroke=\"black\" points=\"292.261,-307.51 281.771,-306.021 289.042,-313.726 292.261,-307.51\"/>\r\n",
       "</g>\r\n",
       "<!-- 7 -->\r\n",
       "<g id=\"node8\" class=\"node\"><title>7</title>\r\n",
       "<path fill=\"#8139e5\" fill-opacity=\"0.498039\" stroke=\"black\" d=\"M497,-306C497,-306 362,-306 362,-306 356,-306 350,-300 350,-294 350,-294 350,-235 350,-235 350,-229 356,-223 362,-223 362,-223 497,-223 497,-223 503,-223 509,-229 509,-235 509,-235 509,-294 509,-294 509,-300 503,-306 497,-306\"/>\r\n",
       "<text text-anchor=\"start\" x=\"358\" y=\"-290.8\" font-family=\"Helvetica,sans-Serif\" font-size=\"14.00\">petal width (cm) ≤ 1.55</text>\r\n",
       "<text text-anchor=\"start\" x=\"379.5\" y=\"-275.8\" font-family=\"Helvetica,sans-Serif\" font-size=\"14.00\">entropy = 0.918</text>\r\n",
       "<text text-anchor=\"start\" x=\"390\" y=\"-260.8\" font-family=\"Helvetica,sans-Serif\" font-size=\"14.00\">samples = 6</text>\r\n",
       "<text text-anchor=\"start\" x=\"381\" y=\"-245.8\" font-family=\"Helvetica,sans-Serif\" font-size=\"14.00\">value = [0, 2, 4]</text>\r\n",
       "<text text-anchor=\"start\" x=\"379.5\" y=\"-230.8\" font-family=\"Helvetica,sans-Serif\" font-size=\"14.00\">class = virginica</text>\r\n",
       "</g>\r\n",
       "<!-- 3&#45;&gt;7 -->\r\n",
       "<g id=\"edge7\" class=\"edge\"><title>3&#45;&gt;7</title>\r\n",
       "<path fill=\"none\" stroke=\"black\" d=\"M429.5,-341.907C429.5,-333.649 429.5,-324.864 429.5,-316.302\"/>\r\n",
       "<polygon fill=\"black\" stroke=\"black\" points=\"433,-316.021 429.5,-306.021 426,-316.021 433,-316.021\"/>\r\n",
       "</g>\r\n",
       "<!-- 5 -->\r\n",
       "<g id=\"node6\" class=\"node\"><title>5</title>\r\n",
       "<path fill=\"#39e581\" stroke=\"black\" d=\"M115,-179.5C115,-179.5 12,-179.5 12,-179.5 6,-179.5 -7.10543e-015,-173.5 -7.10543e-015,-167.5 -7.10543e-015,-167.5 -7.10543e-015,-123.5 -7.10543e-015,-123.5 -7.10543e-015,-117.5 6,-111.5 12,-111.5 12,-111.5 115,-111.5 115,-111.5 121,-111.5 127,-117.5 127,-123.5 127,-123.5 127,-167.5 127,-167.5 127,-173.5 121,-179.5 115,-179.5\"/>\r\n",
       "<text text-anchor=\"start\" x=\"21.5\" y=\"-164.3\" font-family=\"Helvetica,sans-Serif\" font-size=\"14.00\">entropy = 0.0</text>\r\n",
       "<text text-anchor=\"start\" x=\"20\" y=\"-149.3\" font-family=\"Helvetica,sans-Serif\" font-size=\"14.00\">samples = 47</text>\r\n",
       "<text text-anchor=\"start\" x=\"11\" y=\"-134.3\" font-family=\"Helvetica,sans-Serif\" font-size=\"14.00\">value = [0, 47, 0]</text>\r\n",
       "<text text-anchor=\"start\" x=\"8\" y=\"-119.3\" font-family=\"Helvetica,sans-Serif\" font-size=\"14.00\">class = versicolor</text>\r\n",
       "</g>\r\n",
       "<!-- 4&#45;&gt;5 -->\r\n",
       "<g id=\"edge5\" class=\"edge\"><title>4&#45;&gt;5</title>\r\n",
       "<path fill=\"none\" stroke=\"black\" d=\"M154.928,-222.907C140.668,-210.99 125.095,-197.976 110.908,-186.12\"/>\r\n",
       "<polygon fill=\"black\" stroke=\"black\" points=\"113.105,-183.394 103.187,-179.667 108.616,-188.765 113.105,-183.394\"/>\r\n",
       "</g>\r\n",
       "<!-- 6 -->\r\n",
       "<g id=\"node7\" class=\"node\"><title>6</title>\r\n",
       "<path fill=\"#8139e5\" stroke=\"black\" d=\"M249.5,-179.5C249.5,-179.5 157.5,-179.5 157.5,-179.5 151.5,-179.5 145.5,-173.5 145.5,-167.5 145.5,-167.5 145.5,-123.5 145.5,-123.5 145.5,-117.5 151.5,-111.5 157.5,-111.5 157.5,-111.5 249.5,-111.5 249.5,-111.5 255.5,-111.5 261.5,-117.5 261.5,-123.5 261.5,-123.5 261.5,-167.5 261.5,-167.5 261.5,-173.5 255.5,-179.5 249.5,-179.5\"/>\r\n",
       "<text text-anchor=\"start\" x=\"161.5\" y=\"-164.3\" font-family=\"Helvetica,sans-Serif\" font-size=\"14.00\">entropy = 0.0</text>\r\n",
       "<text text-anchor=\"start\" x=\"164\" y=\"-149.3\" font-family=\"Helvetica,sans-Serif\" font-size=\"14.00\">samples = 1</text>\r\n",
       "<text text-anchor=\"start\" x=\"155\" y=\"-134.3\" font-family=\"Helvetica,sans-Serif\" font-size=\"14.00\">value = [0, 0, 1]</text>\r\n",
       "<text text-anchor=\"start\" x=\"153.5\" y=\"-119.3\" font-family=\"Helvetica,sans-Serif\" font-size=\"14.00\">class = virginica</text>\r\n",
       "</g>\r\n",
       "<!-- 4&#45;&gt;6 -->\r\n",
       "<g id=\"edge6\" class=\"edge\"><title>4&#45;&gt;6</title>\r\n",
       "<path fill=\"none\" stroke=\"black\" d=\"M203.5,-222.907C203.5,-212.204 203.5,-200.615 203.5,-189.776\"/>\r\n",
       "<polygon fill=\"black\" stroke=\"black\" points=\"207,-189.667 203.5,-179.667 200,-189.667 207,-189.667\"/>\r\n",
       "</g>\r\n",
       "<!-- 8 -->\r\n",
       "<g id=\"node9\" class=\"node\"><title>8</title>\r\n",
       "<path fill=\"#8139e5\" stroke=\"black\" d=\"M383.5,-179.5C383.5,-179.5 291.5,-179.5 291.5,-179.5 285.5,-179.5 279.5,-173.5 279.5,-167.5 279.5,-167.5 279.5,-123.5 279.5,-123.5 279.5,-117.5 285.5,-111.5 291.5,-111.5 291.5,-111.5 383.5,-111.5 383.5,-111.5 389.5,-111.5 395.5,-117.5 395.5,-123.5 395.5,-123.5 395.5,-167.5 395.5,-167.5 395.5,-173.5 389.5,-179.5 383.5,-179.5\"/>\r\n",
       "<text text-anchor=\"start\" x=\"295.5\" y=\"-164.3\" font-family=\"Helvetica,sans-Serif\" font-size=\"14.00\">entropy = 0.0</text>\r\n",
       "<text text-anchor=\"start\" x=\"298\" y=\"-149.3\" font-family=\"Helvetica,sans-Serif\" font-size=\"14.00\">samples = 3</text>\r\n",
       "<text text-anchor=\"start\" x=\"289\" y=\"-134.3\" font-family=\"Helvetica,sans-Serif\" font-size=\"14.00\">value = [0, 0, 3]</text>\r\n",
       "<text text-anchor=\"start\" x=\"287.5\" y=\"-119.3\" font-family=\"Helvetica,sans-Serif\" font-size=\"14.00\">class = virginica</text>\r\n",
       "</g>\r\n",
       "<!-- 7&#45;&gt;8 -->\r\n",
       "<g id=\"edge8\" class=\"edge\"><title>7&#45;&gt;8</title>\r\n",
       "<path fill=\"none\" stroke=\"black\" d=\"M397.581,-222.907C388.644,-211.542 378.922,-199.178 369.955,-187.774\"/>\r\n",
       "<polygon fill=\"black\" stroke=\"black\" points=\"372.513,-185.364 363.58,-179.667 367.01,-189.691 372.513,-185.364\"/>\r\n",
       "</g>\r\n",
       "<!-- 9 -->\r\n",
       "<g id=\"node10\" class=\"node\"><title>9</title>\r\n",
       "<path fill=\"#39e581\" fill-opacity=\"0.498039\" stroke=\"black\" d=\"M567,-187C567,-187 426,-187 426,-187 420,-187 414,-181 414,-175 414,-175 414,-116 414,-116 414,-110 420,-104 426,-104 426,-104 567,-104 567,-104 573,-104 579,-110 579,-116 579,-116 579,-175 579,-175 579,-181 573,-187 567,-187\"/>\r\n",
       "<text text-anchor=\"start\" x=\"422\" y=\"-171.8\" font-family=\"Helvetica,sans-Serif\" font-size=\"14.00\">petal length (cm) ≤ 5.45</text>\r\n",
       "<text text-anchor=\"start\" x=\"446.5\" y=\"-156.8\" font-family=\"Helvetica,sans-Serif\" font-size=\"14.00\">entropy = 0.918</text>\r\n",
       "<text text-anchor=\"start\" x=\"457\" y=\"-141.8\" font-family=\"Helvetica,sans-Serif\" font-size=\"14.00\">samples = 3</text>\r\n",
       "<text text-anchor=\"start\" x=\"448\" y=\"-126.8\" font-family=\"Helvetica,sans-Serif\" font-size=\"14.00\">value = [0, 2, 1]</text>\r\n",
       "<text text-anchor=\"start\" x=\"441\" y=\"-111.8\" font-family=\"Helvetica,sans-Serif\" font-size=\"14.00\">class = versicolor</text>\r\n",
       "</g>\r\n",
       "<!-- 7&#45;&gt;9 -->\r\n",
       "<g id=\"edge9\" class=\"edge\"><title>7&#45;&gt;9</title>\r\n",
       "<path fill=\"none\" stroke=\"black\" d=\"M452.745,-222.907C457.734,-214.195 463.059,-204.897 468.215,-195.893\"/>\r\n",
       "<polygon fill=\"black\" stroke=\"black\" points=\"471.364,-197.438 473.296,-187.021 465.289,-193.959 471.364,-197.438\"/>\r\n",
       "</g>\r\n",
       "<!-- 10 -->\r\n",
       "<g id=\"node11\" class=\"node\"><title>10</title>\r\n",
       "<path fill=\"#39e581\" stroke=\"black\" d=\"M478,-68C478,-68 375,-68 375,-68 369,-68 363,-62 363,-56 363,-56 363,-12 363,-12 363,-6 369,-0 375,-0 375,-0 478,-0 478,-0 484,-0 490,-6 490,-12 490,-12 490,-56 490,-56 490,-62 484,-68 478,-68\"/>\r\n",
       "<text text-anchor=\"start\" x=\"384.5\" y=\"-52.8\" font-family=\"Helvetica,sans-Serif\" font-size=\"14.00\">entropy = 0.0</text>\r\n",
       "<text text-anchor=\"start\" x=\"387\" y=\"-37.8\" font-family=\"Helvetica,sans-Serif\" font-size=\"14.00\">samples = 2</text>\r\n",
       "<text text-anchor=\"start\" x=\"378\" y=\"-22.8\" font-family=\"Helvetica,sans-Serif\" font-size=\"14.00\">value = [0, 2, 0]</text>\r\n",
       "<text text-anchor=\"start\" x=\"371\" y=\"-7.8\" font-family=\"Helvetica,sans-Serif\" font-size=\"14.00\">class = versicolor</text>\r\n",
       "</g>\r\n",
       "<!-- 9&#45;&gt;10 -->\r\n",
       "<g id=\"edge10\" class=\"edge\"><title>9&#45;&gt;10</title>\r\n",
       "<path fill=\"none\" stroke=\"black\" d=\"M470.435,-103.726C464.837,-94.9703 458.913,-85.7032 453.289,-76.9051\"/>\r\n",
       "<polygon fill=\"black\" stroke=\"black\" points=\"456.123,-74.8399 447.787,-68.2996 450.225,-78.6103 456.123,-74.8399\"/>\r\n",
       "</g>\r\n",
       "<!-- 11 -->\r\n",
       "<g id=\"node12\" class=\"node\"><title>11</title>\r\n",
       "<path fill=\"#8139e5\" stroke=\"black\" d=\"M612.5,-68C612.5,-68 520.5,-68 520.5,-68 514.5,-68 508.5,-62 508.5,-56 508.5,-56 508.5,-12 508.5,-12 508.5,-6 514.5,-0 520.5,-0 520.5,-0 612.5,-0 612.5,-0 618.5,-0 624.5,-6 624.5,-12 624.5,-12 624.5,-56 624.5,-56 624.5,-62 618.5,-68 612.5,-68\"/>\r\n",
       "<text text-anchor=\"start\" x=\"524.5\" y=\"-52.8\" font-family=\"Helvetica,sans-Serif\" font-size=\"14.00\">entropy = 0.0</text>\r\n",
       "<text text-anchor=\"start\" x=\"527\" y=\"-37.8\" font-family=\"Helvetica,sans-Serif\" font-size=\"14.00\">samples = 1</text>\r\n",
       "<text text-anchor=\"start\" x=\"518\" y=\"-22.8\" font-family=\"Helvetica,sans-Serif\" font-size=\"14.00\">value = [0, 0, 1]</text>\r\n",
       "<text text-anchor=\"start\" x=\"516.5\" y=\"-7.8\" font-family=\"Helvetica,sans-Serif\" font-size=\"14.00\">class = virginica</text>\r\n",
       "</g>\r\n",
       "<!-- 9&#45;&gt;11 -->\r\n",
       "<g id=\"edge11\" class=\"edge\"><title>9&#45;&gt;11</title>\r\n",
       "<path fill=\"none\" stroke=\"black\" d=\"M522.565,-103.726C528.163,-94.9703 534.087,-85.7032 539.711,-76.9051\"/>\r\n",
       "<polygon fill=\"black\" stroke=\"black\" points=\"542.775,-78.6103 545.213,-68.2996 536.877,-74.8399 542.775,-78.6103\"/>\r\n",
       "</g>\r\n",
       "<!-- 13 -->\r\n",
       "<g id=\"node14\" class=\"node\"><title>13</title>\r\n",
       "<path fill=\"#8139e5\" fill-opacity=\"0.498039\" stroke=\"black\" d=\"M733,-306C733,-306 588,-306 588,-306 582,-306 576,-300 576,-294 576,-294 576,-235 576,-235 576,-229 582,-223 588,-223 588,-223 733,-223 733,-223 739,-223 745,-229 745,-235 745,-235 745,-294 745,-294 745,-300 739,-306 733,-306\"/>\r\n",
       "<text text-anchor=\"start\" x=\"584\" y=\"-290.8\" font-family=\"Helvetica,sans-Serif\" font-size=\"14.00\">sepal length (cm) ≤ 5.95</text>\r\n",
       "<text text-anchor=\"start\" x=\"610.5\" y=\"-275.8\" font-family=\"Helvetica,sans-Serif\" font-size=\"14.00\">entropy = 0.918</text>\r\n",
       "<text text-anchor=\"start\" x=\"621\" y=\"-260.8\" font-family=\"Helvetica,sans-Serif\" font-size=\"14.00\">samples = 3</text>\r\n",
       "<text text-anchor=\"start\" x=\"612\" y=\"-245.8\" font-family=\"Helvetica,sans-Serif\" font-size=\"14.00\">value = [0, 1, 2]</text>\r\n",
       "<text text-anchor=\"start\" x=\"610.5\" y=\"-230.8\" font-family=\"Helvetica,sans-Serif\" font-size=\"14.00\">class = virginica</text>\r\n",
       "</g>\r\n",
       "<!-- 12&#45;&gt;13 -->\r\n",
       "<g id=\"edge13\" class=\"edge\"><title>12&#45;&gt;13</title>\r\n",
       "<path fill=\"none\" stroke=\"black\" d=\"M660.5,-341.907C660.5,-333.649 660.5,-324.864 660.5,-316.302\"/>\r\n",
       "<polygon fill=\"black\" stroke=\"black\" points=\"664,-316.021 660.5,-306.021 657,-316.021 664,-316.021\"/>\r\n",
       "</g>\r\n",
       "<!-- 16 -->\r\n",
       "<g id=\"node17\" class=\"node\"><title>16</title>\r\n",
       "<path fill=\"#8139e5\" stroke=\"black\" d=\"M872,-298.5C872,-298.5 775,-298.5 775,-298.5 769,-298.5 763,-292.5 763,-286.5 763,-286.5 763,-242.5 763,-242.5 763,-236.5 769,-230.5 775,-230.5 775,-230.5 872,-230.5 872,-230.5 878,-230.5 884,-236.5 884,-242.5 884,-242.5 884,-286.5 884,-286.5 884,-292.5 878,-298.5 872,-298.5\"/>\r\n",
       "<text text-anchor=\"start\" x=\"781.5\" y=\"-283.3\" font-family=\"Helvetica,sans-Serif\" font-size=\"14.00\">entropy = 0.0</text>\r\n",
       "<text text-anchor=\"start\" x=\"780\" y=\"-268.3\" font-family=\"Helvetica,sans-Serif\" font-size=\"14.00\">samples = 43</text>\r\n",
       "<text text-anchor=\"start\" x=\"771\" y=\"-253.3\" font-family=\"Helvetica,sans-Serif\" font-size=\"14.00\">value = [0, 0, 43]</text>\r\n",
       "<text text-anchor=\"start\" x=\"773.5\" y=\"-238.3\" font-family=\"Helvetica,sans-Serif\" font-size=\"14.00\">class = virginica</text>\r\n",
       "</g>\r\n",
       "<!-- 12&#45;&gt;16 -->\r\n",
       "<g id=\"edge16\" class=\"edge\"><title>12&#45;&gt;16</title>\r\n",
       "<path fill=\"none\" stroke=\"black\" d=\"M717.052,-341.907C733.808,-329.88 752.122,-316.735 768.761,-304.791\"/>\r\n",
       "<polygon fill=\"black\" stroke=\"black\" points=\"771.21,-307.342 777.293,-298.667 767.128,-301.655 771.21,-307.342\"/>\r\n",
       "</g>\r\n",
       "<!-- 14 -->\r\n",
       "<g id=\"node15\" class=\"node\"><title>14</title>\r\n",
       "<path fill=\"#39e581\" stroke=\"black\" d=\"M712,-179.5C712,-179.5 609,-179.5 609,-179.5 603,-179.5 597,-173.5 597,-167.5 597,-167.5 597,-123.5 597,-123.5 597,-117.5 603,-111.5 609,-111.5 609,-111.5 712,-111.5 712,-111.5 718,-111.5 724,-117.5 724,-123.5 724,-123.5 724,-167.5 724,-167.5 724,-173.5 718,-179.5 712,-179.5\"/>\r\n",
       "<text text-anchor=\"start\" x=\"618.5\" y=\"-164.3\" font-family=\"Helvetica,sans-Serif\" font-size=\"14.00\">entropy = 0.0</text>\r\n",
       "<text text-anchor=\"start\" x=\"621\" y=\"-149.3\" font-family=\"Helvetica,sans-Serif\" font-size=\"14.00\">samples = 1</text>\r\n",
       "<text text-anchor=\"start\" x=\"612\" y=\"-134.3\" font-family=\"Helvetica,sans-Serif\" font-size=\"14.00\">value = [0, 1, 0]</text>\r\n",
       "<text text-anchor=\"start\" x=\"605\" y=\"-119.3\" font-family=\"Helvetica,sans-Serif\" font-size=\"14.00\">class = versicolor</text>\r\n",
       "</g>\r\n",
       "<!-- 13&#45;&gt;14 -->\r\n",
       "<g id=\"edge14\" class=\"edge\"><title>13&#45;&gt;14</title>\r\n",
       "<path fill=\"none\" stroke=\"black\" d=\"M660.5,-222.907C660.5,-212.204 660.5,-200.615 660.5,-189.776\"/>\r\n",
       "<polygon fill=\"black\" stroke=\"black\" points=\"664,-189.667 660.5,-179.667 657,-189.667 664,-189.667\"/>\r\n",
       "</g>\r\n",
       "<!-- 15 -->\r\n",
       "<g id=\"node16\" class=\"node\"><title>15</title>\r\n",
       "<path fill=\"#8139e5\" stroke=\"black\" d=\"M846.5,-179.5C846.5,-179.5 754.5,-179.5 754.5,-179.5 748.5,-179.5 742.5,-173.5 742.5,-167.5 742.5,-167.5 742.5,-123.5 742.5,-123.5 742.5,-117.5 748.5,-111.5 754.5,-111.5 754.5,-111.5 846.5,-111.5 846.5,-111.5 852.5,-111.5 858.5,-117.5 858.5,-123.5 858.5,-123.5 858.5,-167.5 858.5,-167.5 858.5,-173.5 852.5,-179.5 846.5,-179.5\"/>\r\n",
       "<text text-anchor=\"start\" x=\"758.5\" y=\"-164.3\" font-family=\"Helvetica,sans-Serif\" font-size=\"14.00\">entropy = 0.0</text>\r\n",
       "<text text-anchor=\"start\" x=\"761\" y=\"-149.3\" font-family=\"Helvetica,sans-Serif\" font-size=\"14.00\">samples = 2</text>\r\n",
       "<text text-anchor=\"start\" x=\"752\" y=\"-134.3\" font-family=\"Helvetica,sans-Serif\" font-size=\"14.00\">value = [0, 0, 2]</text>\r\n",
       "<text text-anchor=\"start\" x=\"750.5\" y=\"-119.3\" font-family=\"Helvetica,sans-Serif\" font-size=\"14.00\">class = virginica</text>\r\n",
       "</g>\r\n",
       "<!-- 13&#45;&gt;15 -->\r\n",
       "<g id=\"edge15\" class=\"edge\"><title>13&#45;&gt;15</title>\r\n",
       "<path fill=\"none\" stroke=\"black\" d=\"M709.072,-222.907C723.332,-210.99 738.905,-197.976 753.092,-186.12\"/>\r\n",
       "<polygon fill=\"black\" stroke=\"black\" points=\"755.384,-188.765 760.813,-179.667 750.895,-183.394 755.384,-188.765\"/>\r\n",
       "</g>\r\n",
       "</g>\r\n",
       "</svg>\r\n"
      ],
      "text/plain": [
       "<graphviz.files.Source at 0xc2dd1f26a0>"
      ]
     },
     "execution_count": 5,
     "metadata": {},
     "output_type": "execute_result"
    }
   ],
   "source": [
    "dtl = tree.DecisionTreeClassifier(criterion=\"entropy\")\n",
    "dtl2 = dtl.fit(iris.data, iris.target)\n",
    "dtl2.predict(iris.data)\n",
    "\n",
    "#visualisasi data model\n",
    "dot_data = tree.export_graphviz(dtl, out_file=None, \n",
    "                         feature_names=iris.feature_names,  \n",
    "                         class_names=iris.target_names,  \n",
    "                         filled=True, rounded=True,  \n",
    "                         special_characters=True)\n",
    "graph = graphviz.Source(dot_data)\n",
    "graph"
   ]
  },
  {
   "cell_type": "markdown",
   "metadata": {},
   "source": [
    "## k-Nearest Neighbors (kNN)"
   ]
  },
  {
   "cell_type": "code",
   "execution_count": 6,
   "metadata": {},
   "outputs": [
    {
     "name": "stdout",
     "output_type": "stream",
     "text": [
      "0.9666666666666667\n"
     ]
    }
   ],
   "source": [
    "knn = KNeighborsClassifier(n_neighbors=5)\n",
    "# fit data dengan target\n",
    "knn.fit(iris.data, iris.target)\n",
    "knn.predict(iris.data)\n",
    "print(knn.score(iris.data,iris.target))"
   ]
  },
  {
   "cell_type": "markdown",
   "metadata": {},
   "source": [
    "## Neural Network MLP"
   ]
  },
  {
   "cell_type": "code",
   "execution_count": 7,
   "metadata": {},
   "outputs": [
    {
     "name": "stdout",
     "output_type": "stream",
     "text": [
      "Model:\n",
      "1. Weight Matrices:\n",
      "[array([[ 0.01514163,  0.80543225,  0.78694865, -0.40575845,  0.64895165],\n",
      "       [ 0.31990808, -0.47983161, -0.55558321,  0.13860316, -0.1743671 ],\n",
      "       [ 0.25802102, -0.23856378, -0.30066411,  0.67422719, -0.04722081],\n",
      "       [ 0.05875914, -0.45690921,  0.49768294, -0.77392784, -0.36029798]]), array([[ 0.0058384 ,  0.1566431 ],\n",
      "       [ 0.06292264,  0.16430422],\n",
      "       [-0.51790421, -0.7159668 ],\n",
      "       [ 0.82580157, -0.06908522],\n",
      "       [ 0.37858034,  0.42228825]]), array([[ 0.40744036,  1.04725615,  0.94338477],\n",
      "       [ 0.14263   , -0.71649169,  1.08202901]])]\n",
      "\n",
      "2. Bias Vectors:\n",
      "[array([-0.33687062, -0.24905306,  0.00090717,  0.30317754, -0.47096918]), array([-0.71463641, -0.88992272]), array([0.10252851, 0.1026006 , 0.10253685])]\n"
     ]
    }
   ],
   "source": [
    "neuron = MLPClassifier(solver='lbfgs',\n",
    "                hidden_layer_sizes=(5, 2))\n",
    "neuron.fit(iris.data, iris.target)\n",
    "\n",
    "# Menampilkan model\n",
    "print(\"Model:\")\n",
    "\n",
    "# Elemen ke i pada list merepresentasikan weight matrix untuk layer ke-i\n",
    "print(\"1. Weight Matrices:\")\n",
    "print(neuron.coefs_)\n",
    "print()\n",
    "\n",
    "# Elemen ke i pada list merepresentasikan bias vector untuk layer ke-(i + 1)\n",
    "print(\"2. Bias Vectors:\")\n",
    "print(neuron.intercepts_)"
   ]
  },
  {
   "cell_type": "markdown",
   "metadata": {},
   "source": [
    "# C. Pembelajaran dengan split train 90%, test 10% dan confusion matrix"
   ]
  },
  {
   "cell_type": "markdown",
   "metadata": {},
   "source": [
    "## Naive Bayes "
   ]
  },
  {
   "cell_type": "code",
   "execution_count": 8,
   "metadata": {},
   "outputs": [
    {
     "name": "stdout",
     "output_type": "stream",
     "text": [
      "Model:\n",
      "1. Probabilitas setiap kelas:\n",
      "[0.32592593 0.34074074 0.33333333]\n",
      "\n",
      "2. Rata-rata setiap fitur per kelas:\n",
      "[[5.01818182 3.41818182 1.45681818 0.24090909]\n",
      " [5.95434783 2.7673913  4.24782609 1.31956522]\n",
      " [6.59111111 2.99555556 5.56       2.02222222]]\n",
      "\n",
      "3. Variansi setiap fitur per kelas:\n",
      "[[0.12603306 0.15603306 0.02336261 0.01105372]\n",
      " [0.27552458 0.10350189 0.21510397 0.03896503]\n",
      " [0.41369877 0.10175803 0.31617778 0.07906173]]\n",
      "\n",
      "Kinerja:\n",
      "Akurasi:\n",
      "1.0\n",
      "\n",
      "Presisi:\n",
      "1.0\n",
      "\n",
      "Recall:\n",
      "1.0\n",
      "\n",
      "Confusion matrix, without normalization\n",
      "[[6 0 0]\n",
      " [0 4 0]\n",
      " [0 0 5]]\n",
      "\n",
      "Normalized confusion matrix\n",
      "[[1. 0. 0.]\n",
      " [0. 1. 0.]\n",
      " [0. 0. 1.]]\n"
     ]
    },
    {
     "data": {
      "image/png": "[encoded data removed]",
      "text/plain": [
       "<Figure size 432x288 with 2 Axes>"
      ]
     },
     "metadata": {},
     "output_type": "display_data"
    },
    {
     "data": {
      "image/png": "[encoded data removed]",
      "text/plain": [
       "<Figure size 432x288 with 2 Axes>"
      ]
     },
     "metadata": {},
     "output_type": "display_data"
    }
   ],
   "source": [
    "class_names = iris.target_names\n",
    "\n",
    "X_train,X_test,y_train,y_test = train_test_split(iris.data, iris.target, test_size=0.1)\n",
    "y_pred = gnb.fit(X_train,y_train).predict(X_test)\n",
    "\n",
    "print(\"Model:\")\n",
    "print(\"1. Probabilitas setiap kelas:\")\n",
    "print(gnb.class_prior_)\n",
    "print()\n",
    "print(\"2. Rata-rata setiap fitur per kelas:\")\n",
    "print(gnb.theta_)\n",
    "print()\n",
    "print(\"3. Variansi setiap fitur per kelas:\")\n",
    "print(gnb.sigma_)\n",
    "print()\n",
    "print(\"Kinerja:\")\n",
    "print(\"Akurasi:\")\n",
    "print(accuracy_score(y_test, y_pred))\n",
    "print()\n",
    "print(\"Presisi:\")\n",
    "print(precision_score(y_test, y_pred, average='macro'))\n",
    "print()\n",
    "print(\"Recall:\")\n",
    "print(recall_score(y_test, y_pred, average='macro'))\n",
    "print()\n",
    "\n",
    "def plot_confusion_matrix(cm, classes,\n",
    "                          normalize=False,\n",
    "                          title='Confusion matrix',\n",
    "                          cmap=plt.cm.Blues):\n",
    "    \"\"\"\n",
    "    This function prints and plots the confusion matrix.\n",
    "    Normalization can be applied by setting `normalize=True`.\n",
    "    \"\"\"\n",
    "    if normalize:\n",
    "        cm = cm.astype('float') / cm.sum(axis=1)[:, np.newaxis]\n",
    "        print(\"Normalized confusion matrix\")\n",
    "    else:\n",
    "        print('Confusion matrix, without normalization')\n",
    "\n",
    "    print(cm)\n",
    "\n",
    "    plt.imshow(cm, interpolation='nearest', cmap=cmap)\n",
    "    plt.title(title)\n",
    "    plt.colorbar()\n",
    "    tick_marks = np.arange(len(classes))\n",
    "    plt.xticks(tick_marks, classes, rotation=45)\n",
    "    plt.yticks(tick_marks, classes)\n",
    "\n",
    "    fmt = '.2f' if normalize else 'd'\n",
    "    thresh = cm.max() / 2.\n",
    "    for i, j in itertools.product(range(cm.shape[0]), range(cm.shape[1])):\n",
    "        plt.text(j, i, format(cm[i, j], fmt),\n",
    "                 horizontalalignment=\"center\",\n",
    "                 color=\"white\" if cm[i, j] > thresh else \"black\")\n",
    "\n",
    "    plt.ylabel('True label')\n",
    "    plt.xlabel('Predicted label')\n",
    "    plt.tight_layout()\n",
    "\n",
    "\n",
    "# Compute confusion matrix\n",
    "cnf_matrix = confusion_matrix(y_test, y_pred)\n",
    "np.set_printoptions(precision=2)\n",
    "\n",
    "# Plot non-normalized confusion matrix\n",
    "plt.figure()\n",
    "plot_confusion_matrix(cnf_matrix, classes=class_names,\n",
    "                      title='Confusion matrix, without normalization')\n",
    "\n",
    "print()\n",
    "\n",
    "# Plot normalized confusion matrix\n",
    "plt.figure()\n",
    "plot_confusion_matrix(cnf_matrix, classes=class_names, normalize=True,\n",
    "                      title='Normalized confusion matrix')\n",
    "\n",
    "plt.show()"
   ]
  },
  {
   "cell_type": "markdown",
   "metadata": {},
   "source": [
    "## Decision Tree"
   ]
  },
  {
   "cell_type": "code",
   "execution_count": 9,
   "metadata": {},
   "outputs": [
    {
     "name": "stdout",
     "output_type": "stream",
     "text": [
      "Kinerja:\n",
      "Akurasi:\n",
      "1.0\n",
      "\n",
      "Presisi:\n",
      "1.0\n",
      "\n",
      "Recall:\n",
      "1.0\n",
      "\n",
      "Kinerja:\n",
      "Akurasi:\n",
      "1.0\n",
      "\n",
      "Presisi:\n",
      "1.0\n",
      "\n",
      "Recall:\n",
      "1.0\n",
      "\n",
      "Confusion matrix, without normalization\n",
      "[[3 0 0]\n",
      " [0 8 0]\n",
      " [0 0 4]]\n",
      "Normalized confusion matrix\n",
      "[[1. 0. 0.]\n",
      " [0. 1. 0.]\n",
      " [0. 0. 1.]]\n"
     ]
    },
    {
     "data": {
      "image/png": "[encoded data removed]",
      "text/plain": [
       "<Figure size 432x288 with 2 Axes>"
      ]
     },
     "metadata": {},
     "output_type": "display_data"
    },
    {
     "data": {
      "image/png": "[encoded data removed]",
      "text/plain": [
       "<Figure size 432x288 with 2 Axes>"
      ]
     },
     "metadata": {},
     "output_type": "display_data"
    }
   ],
   "source": [
    "X_train,X_test,y_train,y_test = train_test_split(iris.data, iris.target, test_size=0.1, random_state=0)\n",
    "\n",
    "y_pred = dtl.fit(X_train,y_train).predict(X_test)\n",
    "\n",
    "print(\"Kinerja:\")\n",
    "print(\"Akurasi:\")\n",
    "print(accuracy_score(y_test, y_pred))\n",
    "print()\n",
    "print(\"Presisi:\")\n",
    "print(precision_score(y_test, y_pred, average='macro'))\n",
    "print()\n",
    "print(\"Recall:\")\n",
    "print(recall_score(y_test, y_pred, average='macro'))\n",
    "print()\n",
    "print(\"Kinerja:\")\n",
    "print(\"Akurasi:\")\n",
    "print(accuracy_score(y_test, y_pred))\n",
    "print()\n",
    "print(\"Presisi:\")\n",
    "print(precision_score(y_test, y_pred, average='macro'))\n",
    "print()\n",
    "print(\"Recall:\")\n",
    "print(recall_score(y_test, y_pred, average='macro'))\n",
    "print()\n",
    "\n",
    "# Compute confusion matrix\n",
    "cnf_matrix = confusion_matrix(y_test, y_pred)\n",
    "np.set_printoptions(precision=2)\n",
    "\n",
    "# Plot non-normalized confusion matrix\n",
    "plt.figure()\n",
    "plot_confusion_matrix(cnf_matrix, classes=class_names,\n",
    "                      title='Confusion matrix, without normalization')\n",
    "\n",
    "# Plot normalized confusion matrix\n",
    "plt.figure()\n",
    "plot_confusion_matrix(cnf_matrix, classes=class_names, normalize=True,\n",
    "                      title='Normalized confusion matrix')\n",
    "\n",
    "plt.show()"
   ]
  },
  {
   "cell_type": "markdown",
   "metadata": {},
   "source": [
    "## k-Nearest Neighbors (kNN)"
   ]
  },
  {
   "cell_type": "code",
   "execution_count": 10,
   "metadata": {},
   "outputs": [
    {
     "name": "stdout",
     "output_type": "stream",
     "text": [
      "Kinerja:\n",
      "Akurasi:\n",
      "1.0\n",
      "\n",
      "Presisi:\n",
      "1.0\n",
      "\n",
      "Recall:\n",
      "1.0\n",
      "\n",
      "Confusion matrix, without normalization\n",
      "[[3 0 0]\n",
      " [0 8 0]\n",
      " [0 0 4]]\n",
      "Normalized confusion matrix\n",
      "[[1. 0. 0.]\n",
      " [0. 1. 0.]\n",
      " [0. 0. 1.]]\n"
     ]
    },
    {
     "data": {
      "image/png": "[encoded data removed]",
      "text/plain": [
       "<Figure size 432x288 with 2 Axes>"
      ]
     },
     "metadata": {},
     "output_type": "display_data"
    },
    {
     "data": {
      "image/png": "[encoded data removed]",
      "text/plain": [
       "<Figure size 432x288 with 2 Axes>"
      ]
     },
     "metadata": {},
     "output_type": "display_data"
    }
   ],
   "source": [
    "X_train,X_test,y_train,y_test = train_test_split(iris.data, iris.target, test_size=0.1, random_state=0)\n",
    "y_pred = knn.fit(X_train,y_train).predict(X_test)\n",
    "\n",
    "print(\"Kinerja:\")\n",
    "print(\"Akurasi:\")\n",
    "print(accuracy_score(y_test, y_pred))\n",
    "print()\n",
    "print(\"Presisi:\")\n",
    "print(precision_score(y_test, y_pred, average='macro'))\n",
    "print()\n",
    "print(\"Recall:\")\n",
    "print(recall_score(y_test, y_pred, average='macro'))\n",
    "print()\n",
    "\n",
    "# Compute confusion matrix\n",
    "cnf_matrix = confusion_matrix(y_test, y_pred)\n",
    "np.set_printoptions(precision=2)\n",
    "\n",
    "# Plot non-normalized confusion matrix\n",
    "plt.figure()\n",
    "plot_confusion_matrix(cnf_matrix, classes=class_names,\n",
    "                      title='Confusion matrix, without normalization')\n",
    "\n",
    "# Plot normalized confusion matrix\n",
    "plt.figure()\n",
    "plot_confusion_matrix(cnf_matrix, classes=class_names, normalize=True,\n",
    "                      title='Normalized confusion matrix')\n",
    "\n",
    "plt.show()"
   ]
  },
  {
   "cell_type": "markdown",
   "metadata": {},
   "source": [
    "## Neural Network MLP"
   ]
  },
  {
   "cell_type": "code",
   "execution_count": 11,
   "metadata": {},
   "outputs": [
    {
     "name": "stdout",
     "output_type": "stream",
     "text": [
      "Kinerja:\n",
      "Akurasi:\n",
      "0.2\n",
      "\n",
      "Presisi:\n",
      "0.06666666666666667\n",
      "\n",
      "Recall:\n",
      "0.3333333333333333\n",
      "\n",
      "Confusion matrix, without normalization\n",
      "[[3 0 0]\n",
      " [8 0 0]\n",
      " [4 0 0]]\n",
      "Normalized confusion matrix\n",
      "[[1. 0. 0.]\n",
      " [1. 0. 0.]\n",
      " [1. 0. 0.]]\n"
     ]
    },
    {
     "name": "stderr",
     "output_type": "stream",
     "text": [
      "c:\\users\\user\\appdata\\local\\programs\\python\\python36\\lib\\site-packages\\sklearn\\metrics\\classification.py:1143: UndefinedMetricWarning: Precision is ill-defined and being set to 0.0 in labels with no predicted samples.\n",
      "  'precision', 'predicted', average, warn_for)\n"
     ]
    },
    {
     "data": {
      "image/png": "[encoded data removed]",
      "text/plain": [
       "<Figure size 432x288 with 2 Axes>"
      ]
     },
     "metadata": {},
     "output_type": "display_data"
    },
    {
     "data": {
      "image/png": "[encoded data removed]",
      "text/plain": [
       "<Figure size 432x288 with 2 Axes>"
      ]
     },
     "metadata": {},
     "output_type": "display_data"
    }
   ],
   "source": [
    "X_train,X_test,y_train,y_test = train_test_split(iris.data, iris.target, test_size=0.1, random_state=0)\n",
    "y_pred = neuron.fit(X_train,y_train).predict(X_test)\n",
    "\n",
    "# Compute confusion matrix\n",
    "cnf_matrix = confusion_matrix(y_test, y_pred)\n",
    "np.set_printoptions(precision=2)\n",
    "\n",
    "# Plot non-normalized confusion matrix\n",
    "plt.figure()\n",
    "plot_confusion_matrix(cnf_matrix, classes=class_names,\n",
    "                      title='Confusion matrix, without normalization')\n",
    "\n",
    "# Plot normalized confusion matrix\n",
    "plt.figure()\n",
    "plot_confusion_matrix(cnf_matrix, classes=class_names, normalize=True,\n",
    "                      title='Normalized confusion matrix')\n",
    "\n",
    "plt.show()"
   ]
  },
  {
   "cell_type": "markdown",
   "metadata": {},
   "source": [
    "# D. Pembelajaran dengan skema 10-fold cross validation beserta kinerja"
   ]
  },
  {
   "cell_type": "markdown",
   "metadata": {},
   "source": [
    "## Naive Bayes "
   ]
  },
  {
   "cell_type": "code",
   "execution_count": 12,
   "metadata": {},
   "outputs": [
    {
     "name": "stdout",
     "output_type": "stream",
     "text": [
      "Kinerja:\n",
      "\n",
      "Fold 1: 0.9333333333333333\n",
      "Fold 2: 0.9333333333333333\n",
      "Fold 3: 1.0\n",
      "Fold 4: 0.9333333333333333\n",
      "Fold 5: 0.9333333333333333\n",
      "Fold 6: 0.9333333333333333\n",
      "Fold 7: 0.8666666666666667\n",
      "Fold 8: 1.0\n",
      "Fold 9: 1.0\n",
      "Fold 10: 1.0\n",
      "\n",
      "Rata-rata: 0.9533333333333334\n"
     ]
    }
   ],
   "source": [
    "score = cross_val_score(gnb, iris.data, iris.target, cv=10)\n",
    "\n",
    "# Menampilkan kinerja\n",
    "print(\"Kinerja:\")\n",
    "print()\n",
    "for i in range(10):\n",
    "    print(\"Fold \" + str(i + 1) + \":\", score[i])\n",
    "print()\n",
    "print(\"Rata-rata:\", np.mean(score))"
   ]
  },
  {
   "cell_type": "markdown",
   "metadata": {},
   "source": [
    "## Decision Tree"
   ]
  },
  {
   "cell_type": "code",
   "execution_count": 13,
   "metadata": {},
   "outputs": [
    {
     "name": "stdout",
     "output_type": "stream",
     "text": [
      "Kinerja:\n",
      "Fold-1: 1.0\n",
      "Fold-2: 0.9333333333333333\n",
      "Fold-3: 1.0\n",
      "Fold-4: 0.9333333333333333\n",
      "Fold-5: 0.9333333333333333\n",
      "Fold-6: 0.8666666666666667\n",
      "Fold-7: 0.9333333333333333\n",
      "Fold-8: 1.0\n",
      "Fold-9: 1.0\n",
      "Fold-10: 1.0\n",
      "\n",
      "Rata-rata: 0.96\n"
     ]
    }
   ],
   "source": [
    "score = cross_val_score(dtl, iris.data, iris.target, cv=10)\n",
    "\n",
    "# Menampilkan kinerja\n",
    "print(\"Kinerja:\")\n",
    "for i in range(10):\n",
    "    print(\"Fold-\" + str(i + 1) + \":\", score[i])\n",
    "print()\n",
    "print(\"Rata-rata:\", np.mean(score))"
   ]
  },
  {
   "cell_type": "markdown",
   "metadata": {},
   "source": [
    "## k-Nearest Neighbors (kNN)"
   ]
  },
  {
   "cell_type": "code",
   "execution_count": 14,
   "metadata": {},
   "outputs": [
    {
     "name": "stdout",
     "output_type": "stream",
     "text": [
      "Kinerja:\n",
      "Fold-1: 1.0\n",
      "Fold-2: 0.9333333333333333\n",
      "Fold-3: 1.0\n",
      "Fold-4: 1.0\n",
      "Fold-5: 0.8666666666666667\n",
      "Fold-6: 0.9333333333333333\n",
      "Fold-7: 0.9333333333333333\n",
      "Fold-8: 1.0\n",
      "Fold-9: 1.0\n",
      "Fold-10: 1.0\n",
      "\n",
      "Rata-rata: 0.9666666666666668\n"
     ]
    }
   ],
   "source": [
    "score = cross_val_score(knn, iris.data, iris.target, cv=10)\n",
    "\n",
    "# Menampilkan kinerja\n",
    "print(\"Kinerja:\")\n",
    "for i in range(10):\n",
    "    print(\"Fold-\" + str(i + 1) + \":\", score[i])\n",
    "print()\n",
    "print(\"Rata-rata:\", np.mean(score))"
   ]
  },
  {
   "cell_type": "markdown",
   "metadata": {},
   "source": [
    "## Neural Network MLP"
   ]
  },
  {
   "cell_type": "code",
   "execution_count": 15,
   "metadata": {},
   "outputs": [
    {
     "name": "stdout",
     "output_type": "stream",
     "text": [
      "Kinerja:\n",
      "Fold-1: 0.6666666666666666\n",
      "Fold-2: 1.0\n",
      "Fold-3: 0.3333333333333333\n",
      "Fold-4: 1.0\n",
      "Fold-5: 0.3333333333333333\n",
      "Fold-6: 0.3333333333333333\n",
      "Fold-7: 0.3333333333333333\n",
      "Fold-8: 1.0\n",
      "Fold-9: 0.3333333333333333\n",
      "Fold-10: 0.3333333333333333\n",
      "\n",
      "Rata-rata: 0.5666666666666667\n"
     ]
    }
   ],
   "source": [
    "score = cross_val_score(neuron, iris.data, iris.target, cv=10)\n",
    "\n",
    "# Menampilkan kinerja\n",
    "print(\"Kinerja:\")\n",
    "for i in range(10):\n",
    "    print(\"Fold-\" + str(i + 1) + \":\", score[i])\n",
    "print()\n",
    "print(\"Rata-rata:\", np.mean(score))"
   ]
  },
  {
   "cell_type": "markdown",
   "metadata": {},
   "source": [
    "# E. Menyimpan Hipotesis"
   ]
  },
  {
   "cell_type": "code",
   "execution_count": 16,
   "metadata": {},
   "outputs": [
    {
     "data": {
      "text/plain": [
       "['iris_MLP.mdl']"
      ]
     },
     "execution_count": 16,
     "metadata": {},
     "output_type": "execute_result"
    }
   ],
   "source": [
    "joblib.dump(gnb, 'iris_NB.mdl')\n",
    "joblib.dump(dtl, 'iris_DT.mdl')\n",
    "joblib.dump(knn, 'iris_kNN.mdl')\n",
    "joblib.dump(neuron, 'iris_MLP.mdl')"
   ]
  },
  {
   "cell_type": "markdown",
   "metadata": {},
   "source": [
    "# F. Membaca Hipotesis dari File Eksternal"
   ]
  },
  {
   "cell_type": "code",
   "execution_count": 17,
   "metadata": {},
   "outputs": [],
   "source": [
    "gnb = joblib.load('iris_NB.mdl')\n",
    "dtl = joblib.load('iris_DT.mdl')\n",
    "knn = joblib.load('iris_kNN.mdl')\n",
    "neuron = joblib.load('iris_MLP.mdl')"
   ]
  },
  {
   "cell_type": "markdown",
   "metadata": {},
   "source": [
    "# G. Membuat Instance Baru"
   ]
  },
  {
   "cell_type": "code",
   "execution_count": 18,
   "metadata": {},
   "outputs": [
    {
     "name": "stdout",
     "output_type": "stream",
     "text": [
      "[1, 2, 3, 4]\n"
     ]
    }
   ],
   "source": [
    "instance = [1, 2, 3, 4]\n",
    "\n",
    "print (instance)"
   ]
  },
  {
   "cell_type": "markdown",
   "metadata": {},
   "source": [
    "# H. Klasifikasi Dari Hipotesis"
   ]
  },
  {
   "cell_type": "code",
   "execution_count": 19,
   "metadata": {},
   "outputs": [
    {
     "name": "stdout",
     "output_type": "stream",
     "text": [
      "Hasil Klasifikasi = [2]\n",
      "Hasil Klasifikasi = [1]\n",
      "Hasil Klasifikasi = [1]\n",
      "Hasil Klasifikasi = [2]\n"
     ]
    }
   ],
   "source": [
    "newinstance = [instance]\n",
    "\n",
    "# H. Melakukan klasifikasi instance baru dengan NaiveBayes, Decision Tree, kNN\n",
    "\n",
    "temp_gnb = gnb.fit(iris.data, iris.target)\n",
    "temp_neuron = neuron.fit(iris.data, iris.target)\n",
    "\n",
    "#Hasil klasifikasi NaiveBayes untuk instans baru\n",
    "print ('Hasil Klasifikasi = %s' % (temp_gnb.predict(newinstance)))\n",
    "\n",
    "#Hasil klasifikasi Decisiontree untuk instans baru\n",
    "print ('Hasil Klasifikasi = %s' % (dtl2.predict(newinstance)))\n",
    "\n",
    "#Hasil klasifikasi kNN untuk instans baru\n",
    "print ('Hasil Klasifikasi = %s' % (knn.predict(newinstance)))\n",
    "\n",
    "#Hasil klasifikasi MLP untuk instans baru\n",
    "print ('Hasil Klasifikasi = %s' % (temp_neuron.predict(newinstance)))"
   ]
  }
 ],
 "metadata": {
  "kernelspec": {
   "display_name": "Python 3",
   "language": "python",
   "name": "python3"
  },
  "language_info": {
   "codemirror_mode": {
    "name": "ipython",
    "version": 3
   },
   "file_extension": ".py",
   "mimetype": "text/x-python",
   "name": "python",
   "nbconvert_exporter": "python",
   "pygments_lexer": "ipython3",
   "version": "3.6.3"
  }
 },
 "nbformat": 4,
 "nbformat_minor": 2
}
